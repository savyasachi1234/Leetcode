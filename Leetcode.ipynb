{
  "nbformat": 4,
  "nbformat_minor": 0,
  "metadata": {
    "colab": {
      "provenance": [],
      "authorship_tag": "ABX9TyPYwZBkLdfumqoEwu/OHplg",
      "include_colab_link": true
    },
    "kernelspec": {
      "name": "python3",
      "display_name": "Python 3"
    },
    "language_info": {
      "name": "python"
    }
  },
  "cells": [
    {
      "cell_type": "markdown",
      "metadata": {
        "id": "view-in-github",
        "colab_type": "text"
      },
      "source": [
        "<a href=\"https://colab.research.google.com/github/savyasachi1234/yolov8/blob/main/Leetcode.ipynb\" target=\"_parent\"><img src=\"https://colab.research.google.com/assets/colab-badge.svg\" alt=\"Open In Colab\"/></a>"
      ]
    },
    {
      "cell_type": "code",
      "execution_count": 17,
      "metadata": {
        "colab": {
          "base_uri": "https://localhost:8080/"
        },
        "id": "Ja9w_bEAMpqO",
        "outputId": "4adc98a2-85ce-4bee-c433-5895ea9a856d"
      },
      "outputs": [
        {
          "output_type": "stream",
          "name": "stdout",
          "text": [
            "Graph is a Tree\n",
            "Graph is a Tree\n"
          ]
        }
      ],
      "source": [
        "#1\n",
        "# Python Program to check whether\n",
        "# a graph is tree or not\n",
        "\n",
        "from collections import defaultdict\n",
        "\n",
        "class Graph():\n",
        "\n",
        "\tdef __init__(self, V):\n",
        "\t\tself.V = V\n",
        "\t\tself.graph = defaultdict(list)\n",
        "\n",
        "\tdef addEdge(self, v, w):\n",
        "\t\t# Add w to v ist.\n",
        "\t\tself.graph[v].append(w)\n",
        "\t\t# Add v to w list.\n",
        "\t\tself.graph[w].append(v)\n",
        "\n",
        "\t# A recursive function that uses visited[]\n",
        "\t# and parent to detect cycle in subgraph\n",
        "\t# reachable from vertex v.\n",
        "\tdef isCyclicUtil(self, v, visited, parent):\n",
        "\n",
        "\t\t# Mark current node as visited\n",
        "\t\tvisited[v] = True\n",
        "\n",
        "\t\t# Recur for all the vertices adjacent\n",
        "\t\t# for this vertex\n",
        "\t\tfor i in self.graph[v]:\n",
        "\t\t\t# If an adjacent is not visited,\n",
        "\t\t\t# then recur for that adjacent\n",
        "\t\t\tif visited[i] == False:\n",
        "\t\t\t\tif self.isCyclicUtil(i, visited, v) == True:\n",
        "\t\t\t\t\treturn True\n",
        "\n",
        "\t\t\t# If an adjacent is visited and not\n",
        "\t\t\t# parent of current vertex, then there\n",
        "\t\t\t# is a cycle.\n",
        "\t\t\telif i != parent:\n",
        "\t\t\t\treturn True\n",
        "\n",
        "\t\treturn False\n",
        "\n",
        "\t# Returns true if the graph is a tree,\n",
        "\t# else false.\n",
        "\tdef isTree(self):\n",
        "\t\t# Mark all the vertices as not visited\n",
        "\t\t# and not part of recursion stack\n",
        "\t\tvisited = [False] * self.V\n",
        "\n",
        "\t\t# The call to isCyclicUtil serves multiple\n",
        "\t\t# purposes. It returns true if graph reachable\n",
        "\t\t# from vertex 0 is cyclic. It also marks\n",
        "\t\t# all vertices reachable from 0.\n",
        "\t\tif self.isCyclicUtil(0, visited, -1) == True:\n",
        "\t\t\treturn False\n",
        "\n",
        "\t\t# If we find a vertex which is not reachable\n",
        "\t\t# from 0 (not marked by isCyclicUtil(),\n",
        "\t\t# then we return false\n",
        "\t\tfor i in range(self.V):\n",
        "\t\t\tif visited[i] == False:\n",
        "\t\t\t\treturn False\n",
        "\n",
        "\t\treturn True\n",
        "\n",
        "# Driver program to test above functions\n",
        "g1 = Graph(5)\n",
        "g1.addEdge(1, 0)\n",
        "g1.addEdge(0, 2)\n",
        "g1.addEdge(0, 3)\n",
        "g1.addEdge(3, 4)\n",
        "print (\"Graph is a Tree\" if g1.isTree() == True \\\n",
        "\t\t\t\t\t\telse \"Graph is a not a Tree\")\n",
        "\n",
        "g2 = Graph(4)\n",
        "g2.addEdge(0, 1)\n",
        "g2.addEdge(0, 2)\n",
        "g2.addEdge(1, 3)\n",
        "\n",
        "print (\"Graph is a Tree\" if g2.isTree() == True \\\n",
        "\t\t\t\t\t\telse \"Graph is a not a Tree\")\n",
        "\n",
        "\n"
      ]
    },
    {
      "cell_type": "code",
      "source": [
        "#2\n",
        "#Given a number n. The task is to find the smallest number whose factorial contains at least n trailing zeroes.\n",
        "class Solution:\n",
        "    def findNum(self, n: int) -> int:\n",
        "        def trailing_zeroes(x):\n",
        "            count = 0\n",
        "            while x > 0:\n",
        "                x //= 5\n",
        "                count += x\n",
        "            return count\n",
        "\n",
        "        # Binary search for the smallest number whose factorial has at least n trailing zeroes\n",
        "        left, right = 0, 5 * n  # Upper bound for searching\n",
        "        while left < right:\n",
        "            mid = (left + right) // 2\n",
        "            if trailing_zeroes(mid) < n:\n",
        "                left = mid + 1\n",
        "            else:\n",
        "                right = mid\n",
        "\n",
        "        # At the end of binary search, left will be the smallest number with at least n trailing zeroes\n",
        "        return left\n",
        "\n",
        "\n"
      ],
      "metadata": {
        "id": "EO94VIOtNCLk"
      },
      "execution_count": 4,
      "outputs": []
    },
    {
      "cell_type": "code",
      "source": [
        "solution = Solution()\n",
        "print(solution.findNum(6))"
      ],
      "metadata": {
        "colab": {
          "base_uri": "https://localhost:8080/"
        },
        "id": "6UiUuX8FNp-C",
        "outputId": "68b2f46d-56f7-4d2b-e7c0-d7b5dbfab507"
      },
      "execution_count": 5,
      "outputs": [
        {
          "output_type": "stream",
          "name": "stdout",
          "text": [
            "25\n"
          ]
        }
      ]
    },
    {
      "cell_type": "code",
      "source": [
        "#3\n",
        "#Given an array of n distinct elements.\n",
        "# Find the minimum number of swaps required to sort the array in strictly increasing order.\n",
        "\n",
        "class Solution:\n",
        "    def minSwaps(self, nums):\n",
        "        n = len(nums)\n",
        "        # Create a list of tuples (element, index)\n",
        "        arr = [(num, i) for i, num in enumerate(nums)]\n",
        "\n",
        "        # Sort the array based on the element values\n",
        "        arr.sort(key=lambda x: x[0])\n",
        "\n",
        "        # Initialize visited array\n",
        "        visited = [False] * n\n",
        "        swaps = 0\n",
        "\n",
        "        # Traverse the sorted array to find cycles\n",
        "        for i in range(n):\n",
        "            # If the element is already in the correct position or visited\n",
        "            if visited[i] or arr[i][1] == i:\n",
        "                continue\n",
        "\n",
        "            # Find the size of the cycle\n",
        "            cycle_size = 0\n",
        "            j = i\n",
        "\n",
        "            while not visited[j]:\n",
        "                visited[j] = True\n",
        "                # Move to the next index in the cycle\n",
        "                j = arr[j][1]  # Correctly move to the original index of the element\n",
        "                cycle_size += 1\n",
        "\n",
        "            # If there is a cycle of size cycle_size, we need (cycle_size - 1) swaps\n",
        "            if cycle_size > 0:\n",
        "                swaps += (cycle_size - 1)\n",
        "\n",
        "        return swaps"
      ],
      "metadata": {
        "id": "3OuewUMcNy_4"
      },
      "execution_count": 7,
      "outputs": []
    },
    {
      "cell_type": "code",
      "source": [
        "solution = Solution()\n",
        "print(solution.minSwaps([4, 3, 2, 1]))"
      ],
      "metadata": {
        "colab": {
          "base_uri": "https://localhost:8080/"
        },
        "id": "FmOLOKFvNwLZ",
        "outputId": "bf364697-0117-489e-db98-a3841b44aa28"
      },
      "execution_count": 9,
      "outputs": [
        {
          "output_type": "stream",
          "name": "stdout",
          "text": [
            "2\n"
          ]
        }
      ]
    },
    {
      "cell_type": "code",
      "source": [
        "#4\n",
        "#Given a singly linked list, remove all the nodes with any node on their right whose value\n",
        "#is greater and return the head of the modified linked list.\n",
        "# (Not just the immediate Right, but the entire List on the Right)\n",
        "class Node:\n",
        "    def __init__(self, x):\n",
        "        self.data = x\n",
        "        self.next = None\n",
        "\n",
        "class Solution:\n",
        "    def compute(self, head):\n",
        "        # Reverse the linked list\n",
        "        def rev(head):\n",
        "            prev = None\n",
        "            current = head\n",
        "            while current:\n",
        "                next_node = current.next\n",
        "                current.next = prev\n",
        "                prev = current\n",
        "                current = next_node\n",
        "            return prev\n",
        "\n",
        "        # Reverse the original list to facilitate comparison\n",
        "        head = rev(head)\n",
        "        temp = head\n",
        "        maxi = head\n",
        "\n",
        "        while temp and temp.next:\n",
        "            if temp.next.data < maxi.data:\n",
        "                # Skip the next node\n",
        "                temp.next = temp.next.next\n",
        "            else:\n",
        "                # Update maximum and move to the next node\n",
        "                temp = temp.next\n",
        "                maxi = temp\n",
        "\n",
        "        # Reverse the list again to restore original order\n",
        "        return rev(head)"
      ],
      "metadata": {
        "id": "blOy1Uc7OgPS"
      },
      "execution_count": 10,
      "outputs": []
    },
    {
      "cell_type": "code",
      "source": [
        "# Helper function to create a linked list from a list of values\n",
        "def create_linked_list(arr):\n",
        "    if not arr:\n",
        "        return None\n",
        "    head = Node(arr[0])\n",
        "    current = head\n",
        "    for val in arr[1:]:\n",
        "        current.next = Node(val)\n",
        "        current = current.next\n",
        "    return head\n",
        "\n",
        "# Helper function to print linked list\n",
        "def print_linked_list(head):\n",
        "    current = head\n",
        "    while current:\n",
        "        print(current.data, end=\" -> \" if current.next else \"\\n\")\n",
        "        current = current.next\n",
        "\n",
        "# Create linked list from input array\n",
        "arr = [12, 15, 10, 11, 5, 6, 2, 3]\n",
        "head = create_linked_list(arr)\n",
        "\n",
        "# Create Solution object and call compute function\n",
        "solution = Solution()\n",
        "new_head = solution.compute(head)\n",
        "\n",
        "# Print the result\n",
        "print(\"Modified Linked List:\")\n",
        "print_linked_list(new_head)\n"
      ],
      "metadata": {
        "colab": {
          "base_uri": "https://localhost:8080/"
        },
        "id": "Fx4HzcTbO5mF",
        "outputId": "facab052-c5dd-4624-a888-3d7c91a92286"
      },
      "execution_count": 11,
      "outputs": [
        {
          "output_type": "stream",
          "name": "stdout",
          "text": [
            "Modified Linked List:\n",
            "15 -> 11 -> 6 -> 3\n"
          ]
        }
      ]
    },
    {
      "cell_type": "code",
      "source": [
        "#5\n",
        "#You have n books, each with arr[i] a number of pages. m students need to be allocated contiguous books,\n",
        "#with each student getting at least one book.\n",
        "#Out of all the permutations, the goal is to find the permutation where the sum of the maximum number of pages\n",
        "#in a book allotted to a student should be the minimum, out of all possible permutations.\n",
        "\n",
        "class Solution:\n",
        "    def findPages(self, n, arr, m):\n",
        "        # If the number of books is less than the number of students, return -1\n",
        "        if n < m:\n",
        "            return -1\n",
        "\n",
        "        # Helper function to check if we can allocate books within max_pages\n",
        "        def canAllocate(max_pages):\n",
        "            student_count = 1\n",
        "            current_pages = 0\n",
        "\n",
        "            for pages in arr:\n",
        "                current_pages += pages\n",
        "                if current_pages > max_pages:\n",
        "                    # Allocate to a new student\n",
        "                    student_count += 1\n",
        "                    current_pages = pages\n",
        "                    if student_count > m:  # More students than available\n",
        "                        return False\n",
        "            return True\n",
        "\n",
        "        # Set the binary search range\n",
        "        left, right = max(arr), sum(arr)\n",
        "        result = right\n",
        "\n",
        "        while left <= right:\n",
        "            mid = (left + right) // 2\n",
        "\n",
        "            if canAllocate(mid):\n",
        "                result = mid  # This mid is possible, try for a smaller max\n",
        "                right = mid - 1\n",
        "            else:\n",
        "                left = mid + 1\n",
        "\n",
        "        return result"
      ],
      "metadata": {
        "id": "3xHP8x4PP4ys"
      },
      "execution_count": 12,
      "outputs": []
    },
    {
      "cell_type": "code",
      "source": [
        "n = 5\n",
        "arr = [10, 20, 30, 40, 50]\n",
        "m = 3\n",
        "print(solution.findPages(n, arr, m))  # Expected output: 90"
      ],
      "metadata": {
        "colab": {
          "base_uri": "https://localhost:8080/"
        },
        "id": "CCZsdAZjP9c-",
        "outputId": "61e61223-0afd-4b11-84c4-3c3dcaa2dae0"
      },
      "execution_count": 14,
      "outputs": [
        {
          "output_type": "stream",
          "name": "stdout",
          "text": [
            "60\n"
          ]
        }
      ]
    }
  ]
}